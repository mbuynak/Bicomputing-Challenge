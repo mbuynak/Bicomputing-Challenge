{
 "cells": [
  {
   "cell_type": "markdown",
   "metadata": {},
   "source": [
    "# Question 1"
   ]
  },
  {
   "cell_type": "markdown",
   "metadata": {},
   "source": [
    "# Pseudocode"
   ]
  },
  {
   "cell_type": "code",
   "execution_count": null,
   "metadata": {
    "collapsed": true
   },
   "outputs": [],
   "source": [
    "load packages\n",
    "\n",
    "find directory & load data\n",
    "\n",
    "Print data \n",
    "\n",
    "Write Custom likelihood function\n",
    "\n",
    "#like\n",
    "def nllike():\n",
    " \tunpack variables\n",
    "    \tcalculate expected value:  y = B0 + E\n",
    "    \tnll = calculate nll(expected)\n",
    "    \treturn nll\n",
    "\n",
    "#estimate parameters by minimizing log function\n",
    "\n",
    "#alternative\n",
    "\n",
    "def alter():\n",
    "unpack variables\n",
    "    \tcalculate expected value: y = B0 + B1 * x + E\n",
    "    \tnll = calculate nll(expected)\n",
    "    \treturn nll\n",
    "\n",
    "Optimize & print results\n",
    "\n",
    "Write Anova Function"
   ]
  },
  {
   "cell_type": "markdown",
   "metadata": {},
   "source": [
    "# Code"
   ]
  },
  {
   "cell_type": "code",
   "execution_count": 11,
   "metadata": {},
   "outputs": [
    {
     "data": {
      "text/html": [
       "<div>\n",
       "<style>\n",
       "    .dataframe thead tr:only-child th {\n",
       "        text-align: right;\n",
       "    }\n",
       "\n",
       "    .dataframe thead th {\n",
       "        text-align: left;\n",
       "    }\n",
       "\n",
       "    .dataframe tbody tr th {\n",
       "        vertical-align: top;\n",
       "    }\n",
       "</style>\n",
       "<table border=\"1\" class=\"dataframe\">\n",
       "  <thead>\n",
       "    <tr style=\"text-align: right;\">\n",
       "      <th></th>\n",
       "      <th>growth</th>\n",
       "    </tr>\n",
       "    <tr>\n",
       "      <th>trt</th>\n",
       "      <th></th>\n",
       "    </tr>\n",
       "  </thead>\n",
       "  <tbody>\n",
       "    <tr>\n",
       "      <th>control</th>\n",
       "      <td>20.784649</td>\n",
       "    </tr>\n",
       "    <tr>\n",
       "      <th>control</th>\n",
       "      <td>21.672484</td>\n",
       "    </tr>\n",
       "    <tr>\n",
       "      <th>control</th>\n",
       "      <td>20.510558</td>\n",
       "    </tr>\n",
       "    <tr>\n",
       "      <th>control</th>\n",
       "      <td>19.456232</td>\n",
       "    </tr>\n",
       "    <tr>\n",
       "      <th>ab1</th>\n",
       "      <td>3.387557</td>\n",
       "    </tr>\n",
       "    <tr>\n",
       "      <th>ab1</th>\n",
       "      <td>3.241638</td>\n",
       "    </tr>\n",
       "    <tr>\n",
       "      <th>ab1</th>\n",
       "      <td>2.877557</td>\n",
       "    </tr>\n",
       "    <tr>\n",
       "      <th>ab1</th>\n",
       "      <td>6.932219</td>\n",
       "    </tr>\n",
       "    <tr>\n",
       "      <th>ab2</th>\n",
       "      <td>21.044651</td>\n",
       "    </tr>\n",
       "    <tr>\n",
       "      <th>ab2</th>\n",
       "      <td>17.626949</td>\n",
       "    </tr>\n",
       "    <tr>\n",
       "      <th>ab2</th>\n",
       "      <td>16.634789</td>\n",
       "    </tr>\n",
       "    <tr>\n",
       "      <th>ab2</th>\n",
       "      <td>14.776071</td>\n",
       "    </tr>\n",
       "    <tr>\n",
       "      <th>ab3</th>\n",
       "      <td>13.283149</td>\n",
       "    </tr>\n",
       "    <tr>\n",
       "      <th>ab3</th>\n",
       "      <td>8.414551</td>\n",
       "    </tr>\n",
       "    <tr>\n",
       "      <th>ab3</th>\n",
       "      <td>6.973554</td>\n",
       "    </tr>\n",
       "    <tr>\n",
       "      <th>ab3</th>\n",
       "      <td>4.674795</td>\n",
       "    </tr>\n",
       "  </tbody>\n",
       "</table>\n",
       "</div>"
      ],
      "text/plain": [
       "            growth\n",
       "trt               \n",
       "control  20.784649\n",
       "control  21.672484\n",
       "control  20.510558\n",
       "control  19.456232\n",
       "ab1       3.387557\n",
       "ab1       3.241638\n",
       "ab1       2.877557\n",
       "ab1       6.932219\n",
       "ab2      21.044651\n",
       "ab2      17.626949\n",
       "ab2      16.634789\n",
       "ab2      14.776071\n",
       "ab3      13.283149\n",
       "ab3       8.414551\n",
       "ab3       6.973554\n",
       "ab3       4.674795"
      ]
     },
     "execution_count": 11,
     "metadata": {},
     "output_type": "execute_result"
    }
   ],
   "source": [
    "# #Question 1\n",
    "#Import Packages\n",
    "import pandas\n",
    "import numpy\n",
    "from scipy.optimize import minimize\n",
    "from scipy.stats import norm\n",
    "import scipy.integrate as spi\n",
    "from scipy.integrate import odeint\n",
    "from scipy import stats\n",
    "import matplotlib.pyplot as plt\n",
    "import re\n",
    "import os\n",
    "from plotnine import *\n",
    "\n",
    "# Directory\n",
    "os.chdir(\"/Users/madelinebuynak/Desktop\")\n",
    "\n",
    "# load data\n",
    "data=pandas.read_csv(\"antibiotics.csv\",header=0,index_col=0)\n",
    "data"
   ]
  },
  {
   "cell_type": "code",
   "execution_count": 3,
   "metadata": {},
   "outputs": [
    {
     "data": {
      "text/plain": [
       "<matplotlib.axes._subplots.AxesSubplot at 0x111d47278>"
      ]
     },
     "execution_count": 3,
     "metadata": {},
     "output_type": "execute_result"
    }
   ],
   "source": [
    "#Create a Boxplot\n",
    "#Import Packages\n",
    "import pandas\n",
    "import numpy\n",
    "from scipy.optimize import minimize\n",
    "from scipy.stats import norm\n",
    "import scipy.integrate as spi\n",
    "from scipy.integrate import odeint\n",
    "import matplotlib.pyplot as plt\n",
    "import re\n",
    "import os\n",
    "from plotnine import *\n",
    "\n",
    "# Directory\n",
    "os.chdir(\"/Users/madelinebuynak/Desktop\")\n",
    "\n",
    "# load data\n",
    "data=pandas.read_csv(\"antibiotics.csv\",header=0,index_col=0)\n",
    "#Create a boxplot\n",
    "data.boxplot('growth', by='trt', figsize=(12, 8))\n"
   ]
  },
  {
   "cell_type": "code",
   "execution_count": 10,
   "metadata": {},
   "outputs": [],
   "source": [
    "# Custom likelihood function\n",
    "def nllike(p,obs):\n",
    "    B0=p[0]\n",
    "    B1=p[1]\n",
    "    sigma=p[2]\n",
    "    \n",
    "    expected=B0+B1*obs.x\n",
    "    nll=-1*norm(expected,sigma).logpdf(obs.y).sum()\n",
    "    return nll"
   ]
  },
  {
   "cell_type": "code",
   "execution_count": 9,
   "metadata": {
    "collapsed": true
   },
   "outputs": [],
   "source": [
    "#Alternative\n",
    "def alter(p,obs1,obs2):\n",
    "    B0=p[0]\n",
    "    B1=p[1]\n",
    "    sigma=p[2]\n",
    "    expected=B0+B1*obs1\n",
    "    nll=-1*norm(expected,sigma).logpdf(obs2).sum()\n",
    "    return nll  "
   ]
  },
  {
   "cell_type": "code",
   "execution_count": 7,
   "metadata": {
    "collapsed": true
   },
   "outputs": [],
   "source": [
    "#2-level ANOVA\n",
    "def nllike_anova_2(p,obs):\n",
    "    B0=p[0]\n",
    "    B1=p[1]\n",
    "    sigma=p[2]\n",
    "    expected=B0+B1*obs.x1\n",
    "    nll=-1*norm(expected,sigma).logpdf(obs.y).sum()\n",
    "    return nll  \n"
   ]
  }
 ],
 "metadata": {
  "kernelspec": {
   "display_name": "Python 3",
   "language": "python",
   "name": "python3"
  },
  "language_info": {
   "codemirror_mode": {
    "name": "ipython",
    "version": 3
   },
   "file_extension": ".py",
   "mimetype": "text/x-python",
   "name": "python",
   "nbconvert_exporter": "python",
   "pygments_lexer": "ipython3",
   "version": "3.6.1"
  }
 },
 "nbformat": 4,
 "nbformat_minor": 2
}
