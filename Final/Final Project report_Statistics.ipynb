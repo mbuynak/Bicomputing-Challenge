{
 "cells": [
  {
   "cell_type": "markdown",
   "metadata": {},
   "source": [
    "Course Project: ANOVA vs Regression \n",
    "=======\n",
    "\n",
    "### _Group Member: Michelle Corley, Bailee Egan, Madeline Buynak, Yingying Chen_ "
   ]
  },
  {
   "cell_type": "markdown",
   "metadata": {},
   "source": [
    "## Content\n",
    "\n",
    "This porject will focus on the optimal use of experiment units to detect the effect of a treatment statistically."
   ]
  },
  {
   "cell_type": "markdown",
   "metadata": {},
   "source": [
    "## Outlines\n",
    "\n",
    "** Problem 1 ANOVA vs Regression-design experiment** \n",
    "\n",
    "* Part A: categorical predictors (antibotics dataset)\n",
    "* Part B: continous predictors (sugar dataset)\n",
    "\n",
    "** Problem 2 A statistical power analysis** "
   ]
  },
  {
   "cell_type": "markdown",
   "metadata": {},
   "source": [
    "## Problem 1: Part A"
   ]
  },
  {
   "cell_type": "markdown",
   "metadata": {
    "collapsed": true
   },
   "source": [
    "** 1) Problem Description** \n",
    "\n",
    "A student conducted an experiment evaluating the effect of three different new antibiotics on growth of E.\n",
    "coli in lab cultures. Using the data in antibiotics.txt, generate a plot that summarizes the results and\n",
    "test for an effect of antibiotic treatments on the growth of E. coli using an ANOVA-design linear model and\n",
    "likelihood ratio test.\n",
    "\n",
    "This dataset describes the effect of sugar on the growth of *E.coli*. In the first column the header is \"trt\" and has corresponding antibiotics category. In the second column the title is \"growth\" with the corresponding numbers for growth.\n",
    "\n",
    "** 2) Pseudocode** \n",
    "\n",
    "* Import the necessary packages \n",
    "* Load the data\n",
    "* Generate a plot that summarizes the results \n",
    "* Maximum liklihood functions for null hypothesis and ANOVA-design (three levels)     \n",
    "* Return negative loglikelihood for the null model and alternative model    \n",
    "* Calculate P value\n",
    "\n",
    "** 3) Commented Functional Code** \n",
    "\n",
    "The cells below shows the code and the output"
   ]
  },
  {
   "cell_type": "code",
   "execution_count": 92,
   "metadata": {},
   "outputs": [
    {
     "data": {
      "text/plain": [
       "<matplotlib.text.Text at 0x117b68390>"
      ]
     },
     "execution_count": 92,
     "metadata": {},
     "output_type": "execute_result"
    },
    {
     "data": {
      "image/png": "[encoded data removed]",
      "text/plain": [
       "<matplotlib.figure.Figure at 0x117f23390>"
      ]
     },
     "metadata": {},
     "output_type": "display_data"
    }
   ],
   "source": [
    "#Import Packages\n",
    "\n",
    "import pandas\n",
    "import numpy\n",
    "from scipy.optimize import minimize\n",
    "from scipy.stats import norm\n",
    "from scipy.stats import chi2\n",
    "from scipy import stats\n",
    "%matplotlib inline\n",
    "import matplotlib.pyplot as plt\n",
    "\n",
    "# load data\n",
    "data=pandas.read_csv(\"antibiotics.csv\")\n",
    "\n",
    "#Create a boxplot\n",
    "\n",
    "fig=data.boxplot('growth', by='trt', figsize=(8, 6),fontsize=20, grid=False)\n",
    "fig.set_xlabel('Treatment',fontsize=20)\n",
    "fig.set_ylabel('Growth',fontsize=20)\n",
    "plt.title(\"Growth of E coli by antibiotics treatment\",fontsize=20)\n",
    "plt.suptitle(\"\")"
   ]
  },
  {
   "cell_type": "code",
   "execution_count": 93,
   "metadata": {
    "collapsed": true
   },
   "outputs": [],
   "source": [
    "# Custom likelihood function\n",
    "\n",
    "# null \n",
    "\n",
    "def nllike(p,obs):\n",
    "    B0=p[0]\n",
    "    sigma=p[1]\n",
    "    \n",
    "    expected=B0\n",
    "    nll=-1*norm(expected,sigma).logpdf(obs).sum()\n",
    "    return nll\n",
    "\n",
    "#4-level ANOVA (control, ab1, ab2, and ab3)\n",
    "\n",
    "def nllike_anova(p,obs):\n",
    "    B0=p[0]\n",
    "    B1=p[1]\n",
    "    B2=p[2]\n",
    "    sigma=p[3]\n",
    "    \n",
    "    expected=B0+B1*obs.x1+B2*obs.x2\n",
    "    nll=-1*norm(expected,sigma).logpdf(obs.y).sum()\n",
    "    return nll"
   ]
  },
  {
   "cell_type": "code",
   "execution_count": 95,
   "metadata": {},
   "outputs": [
    {
     "name": "stdout",
     "output_type": "stream",
     "text": [
      "Optimization terminated successfully.\n",
      "         Current function value: 53.878278\n",
      "         Iterations: 102\n",
      "         Function evaluations: 181\n",
      "53.8782780764\n",
      "Optimization terminated successfully.\n",
      "         Current function value: 51.934220\n",
      "         Iterations: 274\n",
      "         Function evaluations: 448\n",
      "51.9342195457\n"
     ]
    },
    {
     "data": {
      "text/plain": [
       "0.27380166637992331"
      ]
     },
     "execution_count": 95,
     "metadata": {},
     "output_type": "execute_result"
    }
   ],
   "source": [
    "# Return negative loglikelihood for the null model and alternative model  \n",
    "\n",
    "# null\n",
    "\n",
    "initialGuess=numpy.array([1,1,1])\n",
    "fit=minimize(nllike,initialGuess,method=\"Nelder-Mead\",options={'disp': True},args=data.growth)\n",
    "print(fit.fun)\n",
    "\n",
    "# 4-level ANOVA \n",
    "\n",
    "# creat a dataframe according to y values and different antibotics \n",
    "\n",
    "ab_3=numpy.diag(numpy.ones(3),0)\n",
    "zero = numpy.array([[0,0,0]])\n",
    "ab_3=numpy.concatenate((ab_3, zero))\n",
    "df_3=pandas.DataFrame(ab_3,columns=['x1', 'x2', 'x3'])\n",
    "df_3=df_3.append([df_3]*3, ignore_index=True)\n",
    "df_3=df_3.sort_values(['x1','x2','x3'], ascending=[1,1,1],inplace=False)\n",
    "df_3=df_3.reset_index(drop=True)\n",
    "df_3['y']=data.growth\n",
    "\n",
    "# likelihood \n",
    "initialGuess_anova=numpy.array([1,1,1,1,1])\n",
    "fit_anova=minimize(nllike_anova,initialGuess_anova,method=\"Nelder-Mead\",options={'disp': True},args=df_3)\n",
    "print(fit_anova.fun)\n",
    "\n",
    "# calculate p-value \n",
    "\n",
    "1-chi2.cdf(x=2*(fit.fun-fit_anova.fun),df=3)"
   ]
  },
  {
   "cell_type": "markdown",
   "metadata": {},
   "source": [
    "** 4) Conclusions** \n",
    "\n",
    "* Here we choose a 95% confidence interval with a significance level of 0.05. From the p-value=0.27, we could not reject the null hypothesis. \n",
    "* This is a joint statistic test that tries to test the significance of the effect of all new antibotics on the growth of *E.coli*.\n",
    "* For the the effect of individual new antibotics on the growth of *E.coli*, we could split the dataset and try to establish a t-test among the control and each antibotic group.  "
   ]
  },
  {
   "cell_type": "markdown",
   "metadata": {},
   "source": [
    "## Problem 1: Part B"
   ]
  },
  {
   "cell_type": "markdown",
   "metadata": {
    "collapsed": true
   },
   "source": [
    "** 1) Problem Description** \n",
    "\n",
    "Another student conducted an experiment evaluating the effect of sugar concentration on growth of *E.coli* in lab cultures. Using the data in sugar.txt, generate a plot that summarizes the results and test for an effect of sugar concentration on growth of E. coli using a regression-design linear model and likelihood ratio test.\n",
    "\n",
    "This dataset describes the effect of sugar on the growth of *E.coli*. In the first column the header is \"sugar\" and has corresponding amounts of sugar. In the second column the title is \"growth\" with the corresponding numbers for growth.\n",
    "\n",
    "** 2) Pseudocode** \n",
    "\n",
    "* Import the necessary packages \n",
    "* Load the data\n",
    "* Generate a plot that summarizes the results \n",
    "* Make dataframe for maximum liklihood tests    \n",
    "* Function to return negative loglikelihood for the null and alternative hypothesis\n",
    "* Define and calculate negative log liklihood value for Alternative model    \n",
    "* Estimate parameters for Alt\n",
    "* Same way as for null\n",
    "* Perform maximum likelihood calculations for D \n",
    "* Calculate P value\n",
    "\n",
    "** 3) Commented Functional Code** \n",
    "\n",
    "The cells below shows the code and the output"
   ]
  },
  {
   "cell_type": "code",
   "execution_count": 8,
   "metadata": {},
   "outputs": [
    {
     "data": {
      "image/png": "[encoded data removed]",
      "text/plain": [
       "<matplotlib.figure.Figure at 0x11db3f2d0>"
      ]
     },
     "metadata": {},
     "output_type": "display_data"
    },
    {
     "name": "stdout",
     "output_type": "stream",
     "text": [
      "<ggplot: (282454769)>\n"
     ]
    }
   ],
   "source": [
    "# Import necessary packages \n",
    "\n",
    "import numpy\n",
    "import pandas \n",
    "import scipy\n",
    "import scipy.integrate as spint\n",
    "from scipy.stats import norm\n",
    "from scipy.optimize import minimize\n",
    "from scipy.stats import chi2\n",
    "import plotnine\n",
    "from plotnine import *\n",
    "\n",
    "#Load Data\n",
    "\n",
    "data=pandas.read_csv(\"sugar.csv\")\n",
    "plot1= ggplot(data,aes(x=\"sugar\",y=\"growth\"))+theme_classic()+geom_point()+stat_smooth(method=\"lm\")\n",
    "print plot1"
   ]
  },
  {
   "cell_type": "code",
   "execution_count": 4,
   "metadata": {},
   "outputs": [
    {
     "name": "stdout",
     "output_type": "stream",
     "text": [
      "Optimization terminated successfully.\n",
      "         Current function value: 56.241197\n",
      "         Iterations: 53\n",
      "         Function evaluations: 103\n",
      "Null model negative log liklihood value = \n",
      "56.2411971986\n"
     ]
    }
   ],
   "source": [
    "# Test Null Hypothesis Using Likelihood Ratio Test\n",
    "\n",
    "dataFrame=pandas.DataFrame({'y':data.growth,'x':data.sugar})\n",
    "\n",
    "#Define null hypothesis \n",
    "\n",
    "def nllikeNull(p,obs):\n",
    "    B0=p[0]\n",
    "    sigma=p[1]\n",
    "    \n",
    "    expected=B0\n",
    "    nll=-1*norm(expected,sigma).logpdf(obs.y).sum()\n",
    "    return nll\n",
    "    \n",
    "# estimate parameters by minimizing the NLL for data\n",
    "\n",
    "initialGuess=numpy.array([15,1])\n",
    "fitNull=minimize(nllikeNull,initialGuess,method=\"Nelder-Mead\",options={'disp': True},args=dataFrame)\n",
    "nllNull= fitNull.fun #gives NLL value for null\n",
    "print(\"Null model negative log liklihood value = \")\n",
    "print(nllNull)"
   ]
  },
  {
   "cell_type": "code",
   "execution_count": 5,
   "metadata": {},
   "outputs": [
    {
     "name": "stdout",
     "output_type": "stream",
     "text": [
      "Optimization terminated successfully.\n",
      "         Current function value: 36.278639\n",
      "         Iterations: 181\n",
      "         Function evaluations: 323\n",
      "Alternative model negative log liklihood value = \n",
      "36.2786386193\n"
     ]
    }
   ],
   "source": [
    "# Test Alternative Hypothesis Using Likelihood Ratio Test\n",
    "\n",
    "#Define Alternative\n",
    "\n",
    "def nllikeAlt(p,obs):\n",
    "    B0=p[0]\n",
    "    B1=p[1]\n",
    "    sigma=p[2]\n",
    "    \n",
    "    expectedAlt=B0+B1*obs.x\n",
    "    nll=-1*norm(expectedAlt,sigma).logpdf(obs.y).sum()\n",
    "    return nll\n",
    "    \n",
    "# estimate parameters by minimizing the NLL for data\n",
    "initialGuess=numpy.array([0,2,1])\n",
    "fitAlt=minimize(nllikeAlt,initialGuess,method=\"Nelder-Mead\",options={'disp': True},args=dataFrame)\n",
    "nllAlt= fitAlt.fun #gives NLL value for null\n",
    "print(\"Alternative model negative log liklihood value = \") \n",
    "print(nllAlt)"
   ]
  },
  {
   "cell_type": "code",
   "execution_count": 6,
   "metadata": {},
   "outputs": [
    {
     "name": "stdout",
     "output_type": "stream",
     "text": [
      "('D-value= ', 39.925117158676699)\n"
     ]
    }
   ],
   "source": [
    "# Calculate D value\n",
    "Dval = 2*(nllNull-nllAlt)\n",
    "print(\"D-value= \",Dval)"
   ]
  },
  {
   "cell_type": "code",
   "execution_count": 7,
   "metadata": {},
   "outputs": [
    {
     "name": "stdout",
     "output_type": "stream",
     "text": [
      "2.63887911522e-10\n"
     ]
    }
   ],
   "source": [
    "# Calculate p value\n",
    "pval=1-scipy.stats.chi2.cdf(x=Dval,df=1)\n",
    "print(pval)"
   ]
  },
  {
   "cell_type": "markdown",
   "metadata": {},
   "source": [
    "** 4) Conclusions** \n",
    "\n",
    "* Here we choose a 95% confidence interval with a significance level of 0.05. From the p-value=2.63887911522e-10, we could reject the null hypothesis and conclude that sugar has an effect on the growth of *E coli* \n",
    "* The estimated parameters in the linear model could be found in the fitAlt function. "
   ]
  },
  {
   "cell_type": "markdown",
   "metadata": {},
   "source": [
    "## Problem 2"
   ]
  },
  {
   "cell_type": "markdown",
   "metadata": {},
   "source": [
    "** 1) Problem Description** \n",
    "\n",
    "To evaluate the relative statistical power of regression- and ANOVA-design experiments, 10 random\n",
    "experiments with a regression design and 10 random experiments with a ANOVA-design (2, 4, and 8 levels, respectively) were simulated. The relationship of y and x was defined as beta1 = 0.4 and beta0 = 10 with normal distributed errors whose standard deviation equals to 1, 2, 4, 6, 8, 12, and 24. The p-value for each design and relationship was caculated from likelihood ratio tests. The average p-value across the 10 runs was used as the metric of statistical power.\n",
    "\n",
    "** 2) Pseudocode** \n",
    "\n",
    "* Import necessary packages\n",
    "* Customer functions for null hypothesis, regression design, ANOVA design of two levels, four levels and eight levels \n",
    "* Customer functions for obtaining the metric of statistical power (i.e., the average p-valuve from likelihood ratio tests across the 10 repeated runs) by regression design, ANOVA design of two levels, four levels and eight levels\n",
    "* Data frame of average p-values under different design and different standard deviation values.\n",
    "\n",
    "** 3) Commented Functional code** \n",
    "\n",
    "The cell below shows the code and the output"
   ]
  },
  {
   "cell_type": "code",
   "execution_count": 6,
   "metadata": {},
   "outputs": [],
   "source": [
    "# Import necessary packages \n",
    "import pandas as pd \n",
    "import numpy as np\n",
    "from scipy.optimize import minimize\n",
    "from scipy.stats import norm\n",
    "from scipy.stats import chi2\n",
    "\n",
    "# Customer Function for null hypothesis \n",
    "\n",
    "# refer to the course material \n",
    "\n",
    "def null(p,obs):\n",
    "    B0=p[0]\n",
    "    sigma=p[1]\n",
    "    \n",
    "    expected=B0\n",
    "    nll=-1*norm(expected,sigma).logpdf(obs).sum()\n",
    "    return nll\n",
    "\n",
    "# Regression-Customer Function for alternative hypothesis_significant effect between x and y\n",
    "\n",
    "# refer to the course material\n",
    "    \n",
    "def nllike(p,obs1,obs2):\n",
    "    B0=p[0]\n",
    "    B1=p[1]\n",
    "    sigma=p[2]\n",
    "    expected=B0+B1*obs1\n",
    "    nll=-1*norm(expected,sigma).logpdf(obs2).sum()\n",
    "    return nll     \n",
    "\n",
    "# ANOVA-Customer Function for alternative hypothesis_significant effect between x and y\n",
    "\n",
    "# 2 levels \n",
    "    \n",
    "def nllike_anova_2(p,obs):\n",
    "    B0=p[0]\n",
    "    B1=p[1]\n",
    "    sigma=p[2]\n",
    "    expected=B0+B1*obs.x1\n",
    "    nll=-1*norm(expected,sigma).logpdf(obs.y).sum()\n",
    "    return nll  \n",
    "\n",
    "\n",
    "# ANOVA-Customer Function for alternative hypothesis_significant effect between x and y\n",
    "\n",
    "# 4 levels \n",
    "    \n",
    "def nllike_anova_4(p,obs):\n",
    "    B0=p[0]\n",
    "    B1=p[1]\n",
    "    B2=p[2]\n",
    "    B3=p[3]\n",
    "    sigma=p[4]\n",
    "    expected=B0+B1*obs.x1+B2*obs.x2+B3*obs.x3\n",
    "    nll=-1*norm(expected,sigma).logpdf(obs.y).sum()\n",
    "    return nll   \n",
    "\n",
    "\n",
    "# ANOVA-Customer Function for alternative hypothesis_significant effect between x and y\n",
    "\n",
    "# 8 levels\n",
    "    \n",
    "def nllike_anova_8(p,obs):\n",
    "    B0=p[0]\n",
    "    B1=p[1]\n",
    "    B2=p[2]\n",
    "    B3=p[3]\n",
    "    B4=p[4]\n",
    "    B5=p[5]\n",
    "    B6=p[6]\n",
    "    B7=p[7]\n",
    "    sigma=p[8]\n",
    "    expected=B0+B1*obs.x1+B2*obs.x2+B3*obs.x3+B4*obs.x4+B5*obs.x5+B6*obs.x6+B7*obs.x7\n",
    "    nll=-1*norm(expected,sigma).logpdf(obs.y).sum()\n",
    "    return nll   \n",
    "\n",
    "# Customer Function for getting mean of p-value from regression design by monte carlo approach\n",
    "\n",
    "def regression(slope,intercept,sigma,iteration,obs_n):\n",
    "    p_regression_sum=0\n",
    "    for i in range(iteration):\n",
    "        # generate random floats in the range of 0-50, total number=obs_n\n",
    "        x=np.random.uniform(0,50,obs_n)\n",
    "        # generate y with standard deviation sigma\n",
    "        y=slope*x+intercept\n",
    "        y=y+np.random.randn(24)*sigma\n",
    "        # get the likelihood of null hypothesis \n",
    "        initialGuess_null=np.array([1,1])\n",
    "        fit_null=minimize(null,initialGuess_null,method=\"Nelder-Mead\",options={'disp':False},args=y)\n",
    "        # get the likelihood of alternative hypothesis\n",
    "        initialGuess=np.array([1,1,1])\n",
    "        fit=minimize(nllike,initialGuess,method=\"Nelder-Mead\",options={'disp':False},args=(x,y))\n",
    "        # calculate the p-value\n",
    "        p_tmp=1-chi2.cdf(x=2*(fit_null.fun-fit.fun),df=1) \n",
    "        p_regression_sum=p_tmp+p_regression_sum\n",
    "    # calculate the average of p-value after iteration \n",
    "    p_regression=p_regression_sum/iteration\n",
    "    return p_regression\n",
    "\n",
    "# Customer Function for getting p-value from anova (level 2) by monte carlo approach\n",
    "\n",
    "# x matrix\n",
    " \n",
    "treatment_2=np.diag(np.ones(1),0)\n",
    "zero = np.array([[0]])\n",
    "treatment_2=np.concatenate((treatment_2, zero))\n",
    "treatment_2=np.tile(treatment_2,(12,1))\n",
    "df_2=pd.DataFrame(treatment_2,columns=['x1'])\n",
    "\n",
    "def anova_2(slope,intercept,sigma,iteration):\n",
    "    p_anova_sum=0\n",
    "    for i in range(iteration):\n",
    "        # set two levels-level 1 (x=1), level 2 (x=40)\n",
    "        x=np.array([1,40])\n",
    "        x=np.tile(x,(1,12))\n",
    "        # generate y with standard deviation sigma\n",
    "        y=slope*x+intercept+np.random.randn(24)*sigma\n",
    "        y=y.reshape(-1)\n",
    "        # append the y to the x data frame\n",
    "        df_2['y']=y\n",
    "        # get the likelihood of null hypothesis \n",
    "        initialGuess_null=np.array([1,1])\n",
    "        fit_null=minimize(null,initialGuess_null,method=\"Nelder-Mead\",options={'disp':False},args=y)\n",
    "        # get the likelihood of alternative hypothesis\n",
    "        initialGuess=np.array([1,1,1])\n",
    "        fit=minimize(nllike_anova_2,initialGuess,method=\"Nelder-Mead\",options={'disp':False},args=df_2)\n",
    "        # calculate the p-value, note here the df=level-1\n",
    "        p_tmp=1-chi2.cdf(x=2*(fit_null.fun-fit.fun),df=1) \n",
    "        p_anova_sum=p_tmp+p_anova_sum\n",
    "        # calculate the average of p-value after iteration \n",
    "    p_anova=p_anova_sum/iteration\n",
    "    return p_anova   \n",
    "\n",
    "# Customer Function for getting p-value from anova (level 4) by monte carlo approach\n",
    "\n",
    "# x matrix\n",
    "    \n",
    "treatment_4=np.diag(np.ones(3),0)\n",
    "zero = np.array([[0,0,0]])\n",
    "treatment_4=np.concatenate((treatment_4, zero))\n",
    "treatment_4=np.tile(treatment_4,(6,1))\n",
    "df_4=pd.DataFrame(treatment_4,columns=['x1', 'x2', 'x3'])\n",
    "\n",
    "\n",
    "def anova_4(slope,intercept,sigma,iteration):\n",
    "    p_anova_sum=0\n",
    "    for i in range(iteration):\n",
    "        # set four levels-level 1 (x=1), level 2 (x=10), level 3 (x=30), level 4 (x=40)\n",
    "        x=np.array([1,10,30,40])\n",
    "        x=np.tile(x,(1,6))\n",
    "        # generate y with standard deviation sigma\n",
    "        y=slope*x+intercept+np.random.randn(24)*sigma\n",
    "        y=y.reshape(-1)\n",
    "        # append the y to the x data frame\n",
    "        df_4['y']=y \n",
    "        # get the likelihood of null hypothesis \n",
    "        initialGuess_null=np.array([1,1])\n",
    "        fit_null=minimize(null,initialGuess_null,method=\"Nelder-Mead\",options={'disp':False},args=y)\n",
    "        # get the likelihood of alternative hypothesis\n",
    "        initialGuess=np.array([1,1,1,1,1])\n",
    "        fit=minimize(nllike_anova_4,initialGuess,method=\"Nelder-Mead\",options={'disp':False},args=df_4)\n",
    "        # calculate the p-value, note here the df=level-1\n",
    "        p_tmp=1-chi2.cdf(x=2*(fit_null.fun-fit.fun),df=3) \n",
    "        p_anova_sum=p_tmp+p_anova_sum\n",
    "    # calculate the average of p-value after iteration \n",
    "    p_anova=p_anova_sum/iteration\n",
    "    return p_anova   \n",
    "\n",
    "# Customer Function for getting p-value from anova (level 8) design by monte carlo approach\n",
    "\n",
    "# x matrix\n",
    "    \n",
    "treatment_8=np.diag(np.ones(7),0)\n",
    "zero = np.array([[0,0,0,0,0,0,0]])\n",
    "treatment_8=np.concatenate((treatment_8, zero))\n",
    "treatment_8=np.tile(treatment_8,(3,1))\n",
    "df_8=pd.DataFrame(treatment_8,columns=['x1', 'x2', 'x3', 'x4', 'x5','x6','x7'])\n",
    "\n",
    "        \n",
    "def anova_8(slope,intercept,sigma,iteration):\n",
    "    p_anova_sum=0\n",
    "    for i in range(iteration):\n",
    "        # set eight levels-level 1 (x=1), level 2 (x=7), level 3 (x=13), level 4 (x=19), level 5 (x=25), level 6 (x=31), level 7 (x=37), level 8 (x=48)\n",
    "        x=np.array([1,7,13,19,25,31,37,48])\n",
    "        x=np.tile(x,(1,3))\n",
    "        # generate y with standard deviation sigma\n",
    "        y=slope*x+intercept+np.random.randn(24)*sigma\n",
    "        y=y.reshape(-1)\n",
    "        # append y to the x data frame\n",
    "        df_8['y']=y        \n",
    "        # get the likelihood of null hypothesis \n",
    "        initialGuess_null=np.array([1,1])\n",
    "        fit_null=minimize(null,initialGuess_null,method=\"Nelder-Mead\",options={'disp':False},args=y)\n",
    "        # get the likelihood of alternative hypothesis\n",
    "        initialGuess=np.array([1,1,1,1,1,1,1,1,1])\n",
    "        fit=minimize(nllike_anova_8,initialGuess,method=\"Nelder-Mead\",options={'disp':False},args=df_8)\n",
    "        # calculate the p-value, note here the df=level-1\n",
    "        p_tmp=1-chi2.cdf(x=2*(fit_null.fun-fit.fun),df=7) \n",
    "        p_anova_sum=p_tmp+p_anova_sum\n",
    "    # calculate the average of p-value after iteration \n",
    "    p_anova=p_anova_sum/iteration\n",
    "    return p_anova   "
   ]
  },
  {
   "cell_type": "code",
   "execution_count": 7,
   "metadata": {},
   "outputs": [
    {
     "data": {
      "text/html": [
       "<div>\n",
       "<style>\n",
       "    .dataframe thead tr:only-child th {\n",
       "        text-align: right;\n",
       "    }\n",
       "\n",
       "    .dataframe thead th {\n",
       "        text-align: left;\n",
       "    }\n",
       "\n",
       "    .dataframe tbody tr th {\n",
       "        vertical-align: top;\n",
       "    }\n",
       "</style>\n",
       "<table border=\"1\" class=\"dataframe\">\n",
       "  <thead>\n",
       "    <tr style=\"text-align: right;\">\n",
       "      <th></th>\n",
       "      <th>1</th>\n",
       "      <th>2</th>\n",
       "      <th>4</th>\n",
       "      <th>6</th>\n",
       "      <th>8</th>\n",
       "      <th>12</th>\n",
       "      <th>24</th>\n",
       "    </tr>\n",
       "  </thead>\n",
       "  <tbody>\n",
       "    <tr>\n",
       "      <th>regression</th>\n",
       "      <td>0</td>\n",
       "      <td>3.87568e-13</td>\n",
       "      <td>1.65307e-06</td>\n",
       "      <td>0.00424198</td>\n",
       "      <td>0.00945166</td>\n",
       "      <td>0.123556</td>\n",
       "      <td>0.147717</td>\n",
       "    </tr>\n",
       "    <tr>\n",
       "      <th>2 level</th>\n",
       "      <td>0</td>\n",
       "      <td>6.88338e-16</td>\n",
       "      <td>5.26829e-07</td>\n",
       "      <td>1.24485e-05</td>\n",
       "      <td>3.70294e-05</td>\n",
       "      <td>0.00760886</td>\n",
       "      <td>0.0659968</td>\n",
       "    </tr>\n",
       "    <tr>\n",
       "      <th>4 level</th>\n",
       "      <td>0</td>\n",
       "      <td>3.002e-12</td>\n",
       "      <td>7.29087e-07</td>\n",
       "      <td>0.0108358</td>\n",
       "      <td>0.0117717</td>\n",
       "      <td>0.0113336</td>\n",
       "      <td>0.553484</td>\n",
       "    </tr>\n",
       "    <tr>\n",
       "      <th>8 level</th>\n",
       "      <td>0.00690397</td>\n",
       "      <td>0.0179396</td>\n",
       "      <td>0.0772567</td>\n",
       "      <td>0.312772</td>\n",
       "      <td>0.355031</td>\n",
       "      <td>0.402233</td>\n",
       "      <td>0.557921</td>\n",
       "    </tr>\n",
       "  </tbody>\n",
       "</table>\n",
       "</div>"
      ],
      "text/plain": [
       "                    1            2            4            6            8   \\\n",
       "regression           0  3.87568e-13  1.65307e-06   0.00424198   0.00945166   \n",
       "2 level              0  6.88338e-16  5.26829e-07  1.24485e-05  3.70294e-05   \n",
       "4 level              0    3.002e-12  7.29087e-07    0.0108358    0.0117717   \n",
       "8 level     0.00690397    0.0179396    0.0772567     0.312772     0.355031   \n",
       "\n",
       "                    12         24  \n",
       "regression    0.123556   0.147717  \n",
       "2 level     0.00760886  0.0659968  \n",
       "4 level      0.0113336   0.553484  \n",
       "8 level       0.402233   0.557921  "
      ]
     },
     "execution_count": 7,
     "metadata": {},
     "output_type": "execute_result"
    }
   ],
   "source": [
    "# Compare the p-value from the regression design and anova design \n",
    "\n",
    "# slope=0.4; Intercept=10; iteration=10; obs_n (total experiment units)=24\n",
    "# for the anova design, three levels 2,4,8 were choosen \n",
    "# standard deviation were selected to be 1,2,4,6,8,12,24\n",
    "\n",
    "\n",
    "level=[2,4,8]\n",
    "sigma=[1,2,4,6,8,12,24]\n",
    "\n",
    "# present the power analysis by summarizing all the average P values in a data frame \n",
    "\n",
    "index=['regression','2 level','4 level','8 level']\n",
    "p_df=pd.DataFrame(index=index,columns=sigma)\n",
    "# fill the p-value of regression design under each sigma\n",
    "for i in range(7):\n",
    "    p_df.iloc[0,i]=regression(0.4,10,sigma[i],10,24)\n",
    "    p_df.iloc[1,i]=anova_2(0.4,10,sigma[i],10)\n",
    "    p_df.iloc[2,i]=anova_4(0.4,10,sigma[i],10)    \n",
    "    p_df.iloc[3,i]=anova_8(0.4,10,sigma[i],10)\n",
    "# print the p-value table for two different designs, where the anova design has three different levels 2,4,8    \n",
    "p_df"
   ]
  },
  {
   "cell_type": "markdown",
   "metadata": {},
   "source": [
    "** 4) Conclusions** \n",
    "\n",
    "* Here we choose a 95% confidence interval with a significance level of 0.05.\n",
    "* In the range of small standard deviation (1-6), the ANOVA design and the regression design work both efficiently and could identify the relationship significantly. However, with the increasing of standard deviation, the ANOVA design (especially two and four levels) works better than the regression design. Noticably, ANOVA design of 8 levels always performs the worst among all the combinations. \n",
    "* The relative perfomance depends on the design of numbers of levels under choosen conditions. This manifests especially when the standard deviation varies from 1 to 24, which sounds reasonable as for the same replicates under a level, the data will enjoy large enough variances that lead to the insignificance of the relationship.  "
   ]
  }
 ],
 "metadata": {
  "kernelspec": {
   "display_name": "Python 2",
   "language": "python",
   "name": "python2"
  },
  "language_info": {
   "codemirror_mode": {
    "name": "ipython",
    "version": 2
   },
   "file_extension": ".py",
   "mimetype": "text/x-python",
   "name": "python",
   "nbconvert_exporter": "python",
   "pygments_lexer": "ipython2",
   "version": "2.7.13"
  }
 },
 "nbformat": 4,
 "nbformat_minor": 1
}
