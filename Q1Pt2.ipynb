{
 "cells": [
  {
   "cell_type": "markdown",
   "metadata": {},
   "source": [
    "# Number 2 of ANOVA and regression problem\n",
    "\n",
    "**The problem to be addressed is:**\n",
    "\n",
    "Another student conducted an experiment evaluating the effect of sugar concentration on growth of E. coli in lab cultures. Using the data in sugar.txt, generate a plot that summarizes the results and test for an effect of sugar concentration on growth of E. coli using a regression-design linear model and likelihood ratio test.\n",
    "\n",
    "We'll first generate pseudocode to help deconstruct the problem. \n"
   ]
  },
  {
   "cell_type": "markdown",
   "metadata": {},
   "source": [
    "#import the necessary packages \n",
    "\n",
    "#load the data \n",
    "\n",
    "#subset the data as needed\n",
    "\n",
    "#generate a plot that summarizes the results and test for an effect of sugar concentration on growth of E. coli using a regression-design linear model ##use ggplot \n",
    "\n",
    "#perform maximum likelihood calculations for D and P values\n"
   ]
  },
  {
   "cell_type": "code",
   "execution_count": null,
   "metadata": {
    "collapsed": true
   },
   "outputs": [],
   "source": []
  }
 ],
 "metadata": {
  "kernelspec": {
   "display_name": "Python 2",
   "language": "python",
   "name": "python2"
  },
  "language_info": {
   "codemirror_mode": {
    "name": "ipython",
    "version": 2
   },
   "file_extension": ".py",
   "mimetype": "text/x-python",
   "name": "python",
   "nbconvert_exporter": "python",
   "pygments_lexer": "ipython2",
   "version": "2.7.13"
  }
 },
 "nbformat": 4,
 "nbformat_minor": 2
}
