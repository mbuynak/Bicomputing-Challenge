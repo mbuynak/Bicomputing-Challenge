{
 "cells": [
  {
   "cell_type": "markdown",
   "metadata": {},
   "source": [
    "# Number 2 of ANOVA and regression problem\n",
    "\n",
    "**The problem to be addressed is:**\n",
    "\n",
    "Another student conducted an experiment evaluating the effect of sugar concentration on growth of E. coli in lab cultures. Using the data in sugar.txt, generate a plot that summarizes the results and test for an effect of sugar concentration on growth of E. coli using a regression-design linear model and likelihood ratio test.\n",
    "\n",
    "##### The data set used in this problem is sugar.csv\n",
    "\n",
    "This dataset describes the effect of sugar on the growth of *E.coli*. In the first column the header is \"sugar\" and has corresponding amounts of sugar. In the second column the title is \"growth\" with the corresponding numbers for growth. \n",
    "\n",
    "\n",
    "We'll first generate pseudocode to help deconstruct the problem. \n"
   ]
  },
  {
   "cell_type": "code",
   "execution_count": 5,
   "metadata": {
    "collapsed": true
   },
   "outputs": [],
   "source": [
    "#import the necessary packages \n",
    "\n",
    "#load the data \n",
    "\n",
    "#subset the data as needed\n",
    "\n",
    "#generate a plot that summarizes the results and test for an effect of sugar concentration on growth of E. coli using a regression-design linear model ##use ggplot \n",
    "\n",
    "#perform maximum likelihood calculations for D and P values\n"
   ]
  },
  {
   "cell_type": "markdown",
   "metadata": {},
   "source": [
    "### Now for the code\n",
    "\n",
    "#### Import necessary packages and load the data "
   ]
  },
  {
   "cell_type": "code",
   "execution_count": 6,
   "metadata": {
    "collapsed": true
   },
   "outputs": [],
   "source": [
    "import numpy\n",
    "import pandas \n",
    "import scipy\n",
    "import scipy.integrate as spint\n",
    "from scipy.stats import norm\n",
    "from scipy.optimize import minimize\n",
    "from scipy.stats import chi2\n",
    "import plotnine\n",
    "from plotnine import *\n",
    "\n",
    "#Load Data\n",
    "data=pandas.read_csv(\"sugar.csv\")"
   ]
  },
  {
   "cell_type": "markdown",
   "metadata": {},
   "source": [
    "## Part 2: Linear regression model \n",
    "\n",
    "Use ggplot to plot linear regression of data. "
   ]
  },
  {
   "cell_type": "code",
   "execution_count": 3,
   "metadata": {},
   "outputs": [
    {
     "data": {
      "image/png": "[encoded data removed]",
      "text/plain": [
       "<matplotlib.figure.Figure at 0x11da73a10>"
      ]
     },
     "metadata": {},
     "output_type": "display_data"
    },
    {
     "name": "stdout",
     "output_type": "stream",
     "text": [
      "<ggplot: (289821889)>\n"
     ]
    }
   ],
   "source": [
    "import numpy\n",
    "import pandas \n",
    "import scipy\n",
    "import scipy.integrate as spint\n",
    "from scipy.stats import norm\n",
    "from scipy.optimize import minimize\n",
    "from scipy.stats import chi2\n",
    "import plotnine\n",
    "from plotnine import *\n",
    "\n",
    "#Load Data\n",
    "data=pandas.read_csv(\"sugar.csv\")\n",
    "plot1= ggplot(data,aes(x=\"sugar\",y=\"growth\"))+theme_classic()+geom_point()+stat_smooth(method=\"lm\")\n",
    "print plot1"
   ]
  },
  {
   "cell_type": "markdown",
   "metadata": {
    "collapsed": true
   },
   "source": [
    "## Test Null Hypothesis Using Likelihood Ratio Test\n"
   ]
  },
  {
   "cell_type": "code",
   "execution_count": 4,
   "metadata": {},
   "outputs": [
    {
     "name": "stdout",
     "output_type": "stream",
     "text": [
      "Optimization terminated successfully.\n",
      "         Current function value: 56.241197\n",
      "         Iterations: 53\n",
      "         Function evaluations: 103\n",
      "Null model negative log liklihood value = \n",
      "56.2411971986\n"
     ]
    }
   ],
   "source": [
    "dataFrame=pandas.DataFrame({'y':data.growth,'x':data.sugar})\n",
    "\n",
    "#Define null hypothesis \n",
    "def nllikeNull(p,obs):\n",
    "    B0=p[0]\n",
    "    sigma=p[1]\n",
    "    \n",
    "    expected=B0\n",
    "    nll=-1*norm(expected,sigma).logpdf(obs.y).sum()\n",
    "    return nll\n",
    "    \n",
    "# estimate parameters by minimizing the NLL for data\n",
    "initialGuess=numpy.array([15,1])\n",
    "fitNull=minimize(nllikeNull,initialGuess,method=\"Nelder-Mead\",options={'disp': True},args=dataFrame)\n",
    "nllNull= fitNull.fun #gives NLL value for null\n",
    "print(\"Null model negative log liklihood value = \")\n",
    "print(nllNull)"
   ]
  },
  {
   "cell_type": "markdown",
   "metadata": {},
   "source": [
    "## Test Alternative Hypothesis Using Likelihood Ratio Test"
   ]
  },
  {
   "cell_type": "code",
   "execution_count": 5,
   "metadata": {},
   "outputs": [
    {
     "name": "stdout",
     "output_type": "stream",
     "text": [
      "Optimization terminated successfully.\n",
      "         Current function value: 36.278639\n",
      "         Iterations: 181\n",
      "         Function evaluations: 323\n",
      "Alternative model negative log liklihood value = \n",
      "36.2786386193\n"
     ]
    }
   ],
   "source": [
    "dataFrame=pandas.DataFrame({'y':data.growth,'x':data.sugar})\n",
    "\n",
    "#Define Alternative\n",
    "def nllikeAlt(p,obs):\n",
    "    B0=p[0]\n",
    "    B1=p[1]\n",
    "    sigma=p[2]\n",
    "    \n",
    "    expectedAlt=B0+B1*obs.x\n",
    "    nll=-1*norm(expectedAlt,sigma).logpdf(obs.y).sum()\n",
    "    return nll\n",
    "    \n",
    "# estimate parameters by minimizing the NLL for data\n",
    "initialGuess=numpy.array([0,2,1])\n",
    "fitAlt=minimize(nllikeAlt,initialGuess,method=\"Nelder-Mead\",options={'disp': True},args=dataFrame)\n",
    "nllAlt= fitAlt.fun #gives NLL value for null\n",
    "print(\"Alternative model negative log liklihood value = \") \n",
    "print(nllAlt)"
   ]
  },
  {
   "cell_type": "markdown",
   "metadata": {},
   "source": []
  }
 ],
 "metadata": {
  "kernelspec": {
   "display_name": "Python 2",
   "language": "python",
   "name": "python2"
  },
  "language_info": {
   "codemirror_mode": {
    "name": "ipython",
    "version": 2
   },
   "file_extension": ".py",
   "mimetype": "text/x-python",
   "name": "python",
   "nbconvert_exporter": "python",
   "pygments_lexer": "ipython2",
   "version": "2.7.13"
  }
 },
 "nbformat": 4,
 "nbformat_minor": 2
}
